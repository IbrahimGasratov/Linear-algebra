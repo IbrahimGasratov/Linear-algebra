{
 "cells": [
  {
   "cell_type": "code",
   "execution_count": null,
   "metadata": {},
   "outputs": [],
   "source": [
    "# Method of least squares (for solving linear equation)\n",
    "\n",
    "import numpy as np\n",
    "n, m = map(int, input().split()) # количество уравнений и количество неизвестных\n",
    "matrix = [list(map(float, input().split())) for i in range(n)]\n",
    "matrix = [[matrix[i][j] for i in range(n)] for j in range(m + 1)]\n",
    "matrix_gauss = [[] for i in range(m)]\n",
    "solution = []\n",
    "\n",
    "for i in range(m):\n",
    "    for j in range(m + 1):\n",
    "        matrix_gauss[i].append(np.dot(matrix[i], matrix[j]))\n",
    "        \n",
    "def gauss(matrix, n, m):  \n",
    "    for z in range(min(n,m)):\n",
    "        k = matrix[z][z]\n",
    "        i = z\n",
    "        while i < n-1:\n",
    "            if k == 0:\n",
    "                for j in range(z, n):\n",
    "                    if matrix[j][z] != 0:\n",
    "                        k = matrix[j][z]\n",
    "                        matrix[i], matrix[j] = matrix[j], matrix[i]\n",
    "                        break\n",
    "            matrix_i = list(map(lambda x: x * -matrix[i+1][z] / k, matrix[z]))\n",
    "            matrix[i+1] = [x+y for (x,y) in zip(matrix_i, matrix[i+1])]     \n",
    "            i += 1\n",
    "\n",
    "gauss(matrix_gauss, m, m)\n",
    "matrix_base = [i[:-1] for i in matrix_gauss if any(i[:-1])]\n",
    "matrix_gauss = list(filter(lambda x: any(x), matrix_gauss))\n",
    "matrix_gauss = [list(reversed(i)) for i in reversed(matrix_gauss)]\n",
    "\n",
    "for i in matrix_gauss:\n",
    "    i.append(i.pop(0))\n",
    "    \n",
    "gauss(matrix_gauss, len(matrix_gauss), len(matrix_gauss[0]) - 1)\n",
    "\n",
    "for i in range(len(matrix_gauss)):\n",
    "    solution.append(matrix_gauss[i][-1] / matrix_gauss[i][i])\n",
    "for i in reversed(solution):\n",
    "    print(i, end=\" \")"
   ]
  }
 ],
 "metadata": {
  "kernelspec": {
   "display_name": "Python 3",
   "language": "python",
   "name": "python3"
  },
  "language_info": {
   "codemirror_mode": {
    "name": "ipython",
    "version": 3
   },
   "file_extension": ".py",
   "mimetype": "text/x-python",
   "name": "python",
   "nbconvert_exporter": "python",
   "pygments_lexer": "ipython3",
   "version": "3.7.4"
  }
 },
 "nbformat": 4,
 "nbformat_minor": 4
}
